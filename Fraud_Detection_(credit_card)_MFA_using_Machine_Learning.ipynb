{
  "nbformat": 4,
  "nbformat_minor": 0,
  "metadata": {
    "colab": {
      "provenance": [],
      "authorship_tag": "ABX9TyNxXegjH3HkOuep5IbIprYF",
      "include_colab_link": true
    },
    "kernelspec": {
      "name": "python3",
      "display_name": "Python 3"
    },
    "language_info": {
      "name": "python"
    }
  },
  "cells": [
    {
      "cell_type": "markdown",
      "metadata": {
        "id": "view-in-github",
        "colab_type": "text"
      },
      "source": [
        "<a href=\"https://colab.research.google.com/github/deep38199patel/Fraud-Detection-credit_card-MFA-using-ML/blob/main/Fraud_Detection_(credit_card)_MFA_using_Machine_Learning.ipynb\" target=\"_parent\"><img src=\"https://colab.research.google.com/assets/colab-badge.svg\" alt=\"Open In Colab\"/></a>"
      ]
    },
    {
      "cell_type": "markdown",
      "source": [
        "# 1. Load the datasets"
      ],
      "metadata": {
        "id": "gInUHQPf-Q8T"
      }
    },
    {
      "cell_type": "code",
      "execution_count": 19,
      "metadata": {
        "id": "ztnOEc7oZbXB"
      },
      "outputs": [],
      "source": [
        "import pandas as pd\n",
        "import numpy as np\n",
        "from sklearn.model_selection import train_test_split\n",
        "from sklearn.preprocessing import StandardScaler, OneHotEncoder\n",
        "from sklearn.ensemble import RandomForestClassifier\n",
        "from sklearn.metrics import classification_report, accuracy_score\n",
        "from sklearn.model_selection import GridSearchCV\n",
        "import joblib\n",
        "\n",
        "cc_df = pd.read_csv('/content/Fraud Detect/credit_card_fraud_dataset.csv')\n",
        "mfa_df = pd.read_csv('/content/Fraud Detect/mfa_fraud_dataset.csv')\n",
        "\n",
        "\n",
        "\n",
        "\n",
        "\n"
      ]
    },
    {
      "cell_type": "markdown",
      "source": [
        " # Drop original categorical columns"
      ],
      "metadata": {
        "id": "0myNTGU6-GzX"
      }
    },
    {
      "cell_type": "code",
      "source": [
        "import pandas as pd\n",
        "from io import StringIO\n",
        "\n",
        "data = \"\"\"\n",
        "User ID,Time of Attempt,Authentication Method,Success/Failure,IP Address,Location,Device,Fraudulent\n",
        "user_1,2024-07-24 21:41:23.621263,otp,True,26.115.193.19,San Francisco,desktop,False\n",
        "user_1,2024-08-02 21:41:23.630647,password,True,140.83.115.201,Paris,tablet,False\n",
        "user_1,2024-07-26 21:41:23.632472,password,True,13.64.72.34,Paris,tablet,False\n",
        "user_1,2024-08-07 21:41:23.636359,biometric,True,43.14\n",
        "\"\"\"\n",
        "\n",
        "df = pd.read_csv(StringIO(data))\n",
        "print(df)"
      ],
      "metadata": {
        "colab": {
          "base_uri": "https://localhost:8080/"
        },
        "id": "gq9xAVky834I",
        "outputId": "e2d2f92e-c7cf-495a-c71f-c5431e1e6f6a"
      },
      "execution_count": null,
      "outputs": [
        {
          "output_type": "stream",
          "name": "stdout",
          "text": [
            "  User ID             Time of Attempt Authentication Method  Success/Failure  \\\n",
            "0  user_1  2024-07-24 21:41:23.621263                   otp             True   \n",
            "1  user_1  2024-08-02 21:41:23.630647              password             True   \n",
            "2  user_1  2024-07-26 21:41:23.632472              password             True   \n",
            "3  user_1  2024-08-07 21:41:23.636359             biometric             True   \n",
            "\n",
            "       IP Address       Location   Device Fraudulent  \n",
            "0   26.115.193.19  San Francisco  desktop      False  \n",
            "1  140.83.115.201          Paris   tablet      False  \n",
            "2     13.64.72.34          Paris   tablet      False  \n",
            "3           43.14            NaN      NaN        NaN  \n"
          ]
        }
      ]
    },
    {
      "cell_type": "markdown",
      "source": [
        " # Drop the Transaction ID and Timestamp prediction"
      ],
      "metadata": {
        "id": "FNZNpWwp61-P"
      }
    },
    {
      "cell_type": "code",
      "source": [
        "import pandas as pd\n",
        "\n",
        "\n",
        "data = {'Transaction ID': ['TX_767344', 'TX_685421', 'TX_533643', 'TX_918237', 'TX_282145', 'TX_100302', 'TX_175940', 'TX_928996'],\n",
        "        'Timestamp': ['2023-09-18 21:41:21.771430', '2023-09-20 21:41:21.771483', '2023-10-29 21:41:21.771495',\n",
        "                     '2024-01-02 21:41:21.771503', '2023-09-15 21:41:21.771520', '2024-01-02 21:41:21.771530',\n",
        "                     '2024-01-05 21:41:21.771538', ''],\n",
        "        'Amount': [591.86, 434.45, 770.6, 241.57, 550.27, 794.71, 599.93, None],\n",
        "        'Is Fraud': [False, False, False, False, False, False, False, None]}\n",
        "\n",
        "df = pd.DataFrame(data)"
      ],
      "metadata": {
        "id": "zzgNQALs_qhT"
      },
      "execution_count": null,
      "outputs": []
    },
    {
      "cell_type": "code",
      "source": [
        "df.to_csv('transactions.csv', index=False)"
      ],
      "metadata": {
        "id": "S9TQWytR0750"
      },
      "execution_count": null,
      "outputs": []
    },
    {
      "cell_type": "code",
      "source": [
        "import pandas as pd\n",
        "from sklearn.preprocessing import StandardScaler\n",
        "import joblib\n",
        "\n",
        "# 1. Load the trained model\n",
        "cc_model = joblib.load('credit_card_fraud_model.pkl')\n",
        "\n",
        "# 2. Prepare the new data for prediction (replace with your actual data)\n",
        "new_transactions = pd.DataFrame({\n",
        "    'Transaction ID': ['TX_767344', 'TX_685421', 'TX_533643', 'TX_918237', 'TX_282145', 'TX_100302', 'TX_175940', 'TX_928996'],\n",
        "    'Timestamp': ['2023-09-18 21:41:21.771430', '2023-09-20 21:41:21.771483', '2023-10-29 21:41:21.771495',\n",
        "                 '2024-01-02 21:41:21.771503', '2023-09-15 21:41:21.771520', '2024-01-02 21:41:21.771530',\n",
        "                 '2024-01-05 21:41:21.771538', ''],  # Handle missing timestamp if needed\n",
        "    'Amount': [591.86, 434.45, 770.6, 241.57, 550.27, 794.71, 599.93, None]  # Handle missing amount if needed\n",
        "})\n",
        "\n",
        "# 3. Preprocess the new data (mimicking the training data preprocessing)\n",
        "new_transactions['Timestamp'] = pd.to_datetime(new_transactions['Timestamp'], errors='coerce') # Convert to datetime, handle errors\n",
        "new_transactions['Amount'] = StandardScaler().fit_transform(new_transactions[['Amount']]) # Standardize Amount, handling NaNs\n",
        "new_transactions = new_transactions.drop(['Transaction ID', 'Timestamp'], axis=1, errors='ignore') # Drop unnecessary columns\n",
        "\n",
        "# 4. Handle missing values (if any) - replace with your preferred method\n",
        "new_transactions = new_transactions.fillna(new_transactions.mean()) # Example: Fill NaNs with mean\n",
        "\n",
        "# 5. Make predictions\n",
        "predictions = cc_model.predict(new_transactions)\n",
        "\n",
        "# 6. Display the results\n",
        "for i, prediction in enumerate(predictions):\n",
        "    transaction_id = 'Unknown' if i >= len(new_transactions) else new_transactions.index[i]  # Handle potential index mismatch\n",
        "    print(f\"Transaction {transaction_id}: {'Fraud' if prediction == 1 else 'Not Fraud'}\")"
      ],
      "metadata": {
        "colab": {
          "base_uri": "https://localhost:8080/"
        },
        "id": "gw3q8CrXfOdF",
        "outputId": "1e2ca80c-d66d-4784-a7d0-8074dc16de89"
      },
      "execution_count": null,
      "outputs": [
        {
          "output_type": "stream",
          "name": "stdout",
          "text": [
            "Transaction 0: Not Fraud\n",
            "Transaction 1: Not Fraud\n",
            "Transaction 2: Fraud\n",
            "Transaction 3: Not Fraud\n",
            "Transaction 4: Not Fraud\n",
            "Transaction 5: Fraud\n",
            "Transaction 6: Not Fraud\n",
            "Transaction 7: Not Fraud\n"
          ]
        }
      ]
    },
    {
      "cell_type": "code",
      "source": [
        "\n",
        "# Define the preprocessing function for credit card data\n",
        "def preprocess_credit_card_data(df):\n",
        "    # Check if 'Timestamp' column exists before processing\n",
        "    if 'Timestamp' in df.columns:\n",
        "        # Convert 'Timestamp' to datetime and handle errors\n",
        "        df['Timestamp'] = pd.to_datetime(df['Timestamp'], errors='coerce')\n",
        "\n",
        "    # Standardize 'Amount', handling NaNs\n",
        "    df['Amount'] = StandardScaler().fit_transform(df[['Amount']])\n",
        "\n",
        "    # Drop unnecessary columns\n",
        "    df = df.drop(['Transaction ID', 'Timestamp'], axis=1, errors='ignore') # 'errors='ignore'' will skip dropping if columns don't exist\n",
        "\n",
        "    # Handle missing values (replace with your preferred method)\n",
        "    df = df.fillna(df.mean())\n",
        "\n",
        "    return df\n",
        "\n",
        "# Define a similar preprocessing function for MFA data\n",
        "# Define a similar preprocessing function for MFA data\n",
        "def preprocess_mfa_data(df):\n",
        "    # Check if 'Time of Attempt' column exists before processing\n",
        "    if 'Time of Attempt' in df.columns:\n",
        "        # Convert 'Time of Attempt' to datetime and handle errors\n",
        "        df['Time of Attempt'] = pd.to_datetime(df['Time of Attempt'], errors='coerce')\n",
        "    else:\n",
        "        print(\"Warning: 'Time of Attempt' column not found in MFA data.\")\n",
        "\n",
        "    # ... (rest of your preprocessing code) ...\n",
        "\n",
        "    return df\n",
        "\n",
        "# 4. Preprocess both datasets\n",
        "cc_df = preprocess_credit_card_data(cc_df)\n",
        "mfa_df = preprocess_mfa_data(mfa_df)\n"
      ],
      "metadata": {
        "id": "mqghbVno-2cU",
        "colab": {
          "base_uri": "https://localhost:8080/"
        },
        "outputId": "550d7ded-d63d-4900-f055-c61126529efd"
      },
      "execution_count": 27,
      "outputs": [
        {
          "output_type": "stream",
          "name": "stdout",
          "text": [
            "Warning: 'Time of Attempt' column not found in MFA data.\n"
          ]
        }
      ]
    },
    {
      "cell_type": "code",
      "source": [
        "import pandas as pd\n",
        "from sklearn.model_selection import train_test_split\n",
        "from sklearn.linear_model import LinearRegression\n",
        "from sklearn.metrics import mean_squared_error\n",
        "\n",
        "# Create a DataFrame from the provided data\n",
        "data = {'Feature1': [1.0, 2.0, 3.0],\n",
        "        'Feature2': [4.0, 5.0, 6.0],\n",
        "        'Prediction': [0.8, 0.6, 0.9]}\n",
        "df = pd.DataFrame(data)\n",
        "\n",
        "# Split the data into features (X) and target variable (y)\n",
        "X = df[['Feature1', 'Feature2']]\n",
        "y = df['Prediction']\n",
        "\n",
        "# Split the data into training and testing sets\n",
        "X_train, X_test, y_train, y_test = train_test_split(X, y, test_size=0.2, random_state=42)\n",
        "\n",
        "# Initialize and train a linear regression model\n",
        "model = LinearRegression()\n",
        "model.fit(X_train, y_train)\n",
        "\n",
        "# Make predictions on the test set\n",
        "y_pred = model.predict(X_test)\n",
        "\n",
        "# Evaluate the model\n",
        "mse = mean_squared_error(y_test, y_pred)\n",
        "print(f\"Mean Squared Error: {mse}\")\n",
        "\n",
        "# Example prediction for new data\n",
        "new_data = pd.DataFrame({'Feature1': [1.5], 'Feature2': [4.5]})\n",
        "new_prediction = model.predict(new_data)\n",
        "print(f\"Prediction for new data: {new_prediction}\")"
      ],
      "metadata": {
        "colab": {
          "base_uri": "https://localhost:8080/"
        },
        "id": "t1qP0WLjBDml",
        "outputId": "d2fa55cb-e9f6-4286-e893-44e9e3e39102"
      },
      "execution_count": 28,
      "outputs": [
        {
          "output_type": "stream",
          "name": "stdout",
          "text": [
            "Mean Squared Error: 0.2499999999999999\n",
            "Prediction for new data: [0.45]\n"
          ]
        }
      ]
    },
    {
      "cell_type": "code",
      "source": [
        "\n",
        "loaded_df = new_transactions.copy()  # Create a copy to avoid modifying the original\n",
        "loaded_df['Prediction'] = predictions  # Add predictions to the DataFrame\n",
        "\n",
        "#Scatter plot of features vs. predictions\n",
        "sns.scatterplot(data=loaded_df, x='Amount', y='Prediction')  # Use 'Amount' as an example feature\n",
        "plt.title('Amount vs. Predictions')\n",
        "plt.show()\n"
      ],
      "metadata": {
        "id": "S-frDHurfZFR",
        "colab": {
          "base_uri": "https://localhost:8080/",
          "height": 472
        },
        "outputId": "da14c6e7-b9ac-45fc-a708-c4d0363ffcb8"
      },
      "execution_count": 29,
      "outputs": [
        {
          "output_type": "display_data",
          "data": {
            "text/plain": [
              "<Figure size 640x480 with 1 Axes>"
            ],
            "image/png": "[encoded data removed]"
          },
          "metadata": {}
        }
      ]
    },
    {
      "cell_type": "code",
      "source": [
        "from sklearn.metrics import mean_squared_error, r2_score\n",
        "\n",
        "# true values and predictions - ensure they have the same length\n",
        "true_values = [0.85, 0.65, 0.90, 0.7, 0.8, 0.95, 0.75, 0.82]  # Adjusted to match the length of predictions\n",
        "predictions = predictions  # Assuming 'predictions' is already defined and has 8 elements\n",
        "\n",
        "mse = mean_squared_error(true_values, predictions)\n",
        "r2 = r2_score(true_values, predictions)\n",
        "\n",
        "print(f'Mean Squared Error: {mse}')\n",
        "print(f'R-squared Score: {r2}')"
      ],
      "metadata": {
        "id": "kqNpa8ctfdTV",
        "colab": {
          "base_uri": "https://localhost:8080/"
        },
        "outputId": "44b8aa80-2647-46c2-98b0-324bc9c9da40"
      },
      "execution_count": 22,
      "outputs": [
        {
          "output_type": "stream",
          "name": "stdout",
          "text": [
            "Mean Squared Error: 0.4403\n",
            "R-squared Score: -49.06965174129354\n"
          ]
        }
      ]
    },
    {
      "source": [
        "!pip install minisom  # Install the MiniSom package\n",
        "\n",
        "import matplotlib.pyplot as plt\n",
        "import numpy as np\n",
        "from minisom import MiniSom\n",
        "\n",
        "def plot_som_weights(som):\n",
        "    \"\"\" Plot the SOM weight map. \"\"\"\n",
        "    plt.figure(figsize=(10, 10))\n",
        "    # Plot weights for the first feature\n",
        "    plt.imshow(som._weights[:,:,0], cmap='viridis')  # Access weights using _weights\n",
        "    plt.colorbar(label='Weight Value')  # Add a color bar to indicate the weight scale\n",
        "    plt.title('SOM Weight Map (First Feature)')\n",
        "    plt.show()\n",
        "\n",
        "data = np.random.rand(100, 3)  # 100 samples, 3 features\n",
        "\n",
        "# Initialize and train SOM\n",
        "som = MiniSom(x=10, y=10, input_len=data.shape[1], sigma=0.5, learning_rate=0.5)\n",
        "som.train(data, 100)  # Train with 100 iterations\n",
        "\n",
        "# Plot SOM weights\n",
        "plot_som_weights(som)"
      ],
      "cell_type": "code",
      "metadata": {
        "id": "2CRgbh6poUCF",
        "colab": {
          "base_uri": "https://localhost:8080/",
          "height": 1000
        },
        "outputId": "6ed1a409-d137-4190-f8a2-49c940e1e663"
      },
      "execution_count": 17,
      "outputs": [
        {
          "output_type": "stream",
          "name": "stdout",
          "text": [
            "Collecting minisom\n",
            "  Downloading MiniSom-2.3.2.tar.gz (10 kB)\n",
            "  Preparing metadata (setup.py) ... \u001b[?25l\u001b[?25hdone\n",
            "Building wheels for collected packages: minisom\n",
            "  Building wheel for minisom (setup.py) ... \u001b[?25l\u001b[?25hdone\n",
            "  Created wheel for minisom: filename=MiniSom-2.3.2-py3-none-any.whl size=10651 sha256=1fd22ffbe585582169d8355ccb2047eee27f778d934776191eadbcac52b66e3c\n",
            "  Stored in directory: /root/.cache/pip/wheels/b4/f6/8a/9daf8831901c3e3805775633404248f10663d1c80b7e5a1314\n",
            "Successfully built minisom\n",
            "Installing collected packages: minisom\n",
            "Successfully installed minisom-2.3.2\n"
          ]
        },
        {
          "output_type": "display_data",
          "data": {
            "text/plain": [
              "<Figure size 1000x1000 with 2 Axes>"
            ],
            "image/png": "[encoded data removed]"
          },
          "metadata": {}
        }
      ]
    }
  ]
}